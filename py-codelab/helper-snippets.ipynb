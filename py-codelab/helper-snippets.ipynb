{
 "metadata": {
  "language_info": {
   "codemirror_mode": {
    "name": "ipython",
    "version": 3
   },
   "file_extension": ".py",
   "mimetype": "text/x-python",
   "name": "python",
   "nbconvert_exporter": "python",
   "pygments_lexer": "ipython3",
   "version": "3.8.6-final"
  },
  "orig_nbformat": 2,
  "kernelspec": {
   "name": "python3",
   "display_name": "Python 3.8.6 64-bit",
   "metadata": {
    "interpreter": {
     "hash": "31f2aee4e71d21fbe5cf8b01ff0e069b9275f58929596ceb00d14d90e3e16cd6"
    }
   }
  }
 },
 "nbformat": 4,
 "nbformat_minor": 2,
 "cells": [
  {
   "cell_type": "code",
   "execution_count": null,
   "metadata": {},
   "outputs": [],
   "source": [
    "# Take Standard Input"
   ]
  },
  {
   "cell_type": "code",
   "execution_count": null,
   "metadata": {},
   "outputs": [],
   "source": [
    "# style - 1\n",
    "import sys\n",
    "\n",
    "input = sys.stdin.read() # return a string\n",
    "token = input.split() # split the string\n",
    "\n",
    "a = int(token[0]) # retrive first number\n",
    "b = int(token[1]) # retrive 2nd number"
   ]
  },
  {
   "cell_type": "code",
   "execution_count": null,
   "metadata": {},
   "outputs": [],
   "source": [
    "# input multiple values from user in one line in Python3\n",
    "list_of_inputs=list(map(int,input().split()))\n",
    "\n",
    "a = list_of_inputs[0]\n",
    "b = list_of_inputs[1]"
   ]
  }
 ]
}