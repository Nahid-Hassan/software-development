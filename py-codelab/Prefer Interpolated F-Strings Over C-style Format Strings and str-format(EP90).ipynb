{
 "cells": [
  {
   "cell_type": "markdown",
   "metadata": {},
   "source": [
    "## Prefer Interpolated `F-Strings` Over `C-style` Format Strings and `str.format`"
   ]
  },
  {
   "cell_type": "markdown",
   "metadata": {},
   "source": [
    "The most common way to format a string in Python is by using the\n",
    "`%` formatting operator. The predefined text template is provided on the\n",
    "left side of the operator in a format string. The values to insert into\n",
    "the template are provided as a single value or tuple of multiple values\n",
    "on the right side of the format operator. For example, here I use the\n",
    "`%` operator to convert difficult-to-read binary and hexadecimal values\n",
    "to integer strings:"
   ]
  },
  {
   "cell_type": "code",
   "execution_count": 5,
   "metadata": {},
   "outputs": [
    {
     "name": "stdout",
     "output_type": "stream",
     "text": [
      "Binary is 187, hex is 3167\n"
     ]
    }
   ],
   "source": [
    "a = 0b10111011\n",
    "b = 0xc5f\n",
    "print('Binary is %d, hex is %d' % (a, b))"
   ]
  },
  {
   "cell_type": "code",
   "execution_count": 2,
   "metadata": {},
   "outputs": [
    {
     "name": "stdout",
     "output_type": "stream",
     "text": [
      "my_var     = 1.23\n"
     ]
    }
   ],
   "source": [
    "key = 'my_var'\n",
    "value = 1.234\n",
    "formatted = '%-10s = %.2f' % (key, value)\n",
    "print(formatted)"
   ]
  },
  {
   "cell_type": "raw",
   "metadata": {},
   "source": [
    "# Error!!!!!!!\n",
    "\n",
    "key = 'my_var'\n",
    "value = 1.234\n",
    "formatted = '%-10s = %.2f' % (value, key)\n",
    "print(formatted)"
   ]
  },
  {
   "cell_type": "code",
   "execution_count": null,
   "metadata": {},
   "outputs": [],
   "source": []
  }
 ],
 "metadata": {
  "kernelspec": {
   "display_name": "Python 3",
   "language": "python",
   "name": "python3"
  },
  "language_info": {
   "codemirror_mode": {
    "name": "ipython",
    "version": 3
   },
   "file_extension": ".py",
   "mimetype": "text/x-python",
   "name": "python",
   "nbconvert_exporter": "python",
   "pygments_lexer": "ipython3",
   "version": "3.8.6"
  }
 },
 "nbformat": 4,
 "nbformat_minor": 4
}
