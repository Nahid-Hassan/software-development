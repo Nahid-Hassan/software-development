{
 "cells": [
  {
   "cell_type": "markdown",
   "metadata": {},
   "source": [
    "## Week 1"
   ]
  },
  {
   "cell_type": "markdown",
   "metadata": {},
   "source": [
    "### Introduction \n",
    "\n",
    "Course Structures:\n",
    "\n",
    "- Week 1: Statements, expressions, and variables\n",
    "- Week 2: Functions, logic, and conditionals\n",
    "- Week 3: Event-driven programming, local/global variables\n",
    "- Week 4: Canvas, drawing, timers\n",
    "- Week 5: List, keyboard input, the basics of modeling motion"
   ]
  },
  {
   "cell_type": "markdown",
   "metadata": {},
   "source": [
    "### CodeSkulptor\n",
    "\n",
    "- Python Coding Environment\n",
    "- Interactive\n",
    "- Run on Browser\n",
    "- Store and Share files in the cloud"
   ]
  },
  {
   "cell_type": "code",
   "execution_count": 1,
   "metadata": {},
   "outputs": [
    {
     "name": "stdout",
     "output_type": "stream",
     "text": [
      "Hello Python3\n"
     ]
    }
   ],
   "source": [
    "print('Hello Python3')"
   ]
  },
  {
   "cell_type": "markdown",
   "metadata": {},
   "source": [
    "### Arithmetic Expressions"
   ]
  },
  {
   "cell_type": "code",
   "execution_count": 2,
   "metadata": {},
   "outputs": [
    {
     "name": "stdout",
     "output_type": "stream",
     "text": [
      "3 -1 3.14159 -2.8\n"
     ]
    }
   ],
   "source": [
    "# print out some numbers\n",
    "print(3, -1, 3.14159, -2.8)"
   ]
  },
  {
   "cell_type": "code",
   "execution_count": 3,
   "metadata": {},
   "outputs": [
    {
     "name": "stdout",
     "output_type": "stream",
     "text": [
      "<class 'int'> <class 'float'>\n"
     ]
    }
   ],
   "source": [
    "print(type(3), type(3.14159))"
   ]
  },
  {
   "cell_type": "code",
   "execution_count": 4,
   "metadata": {},
   "outputs": [
    {
     "name": "stdout",
     "output_type": "stream",
     "text": [
      "<class 'float'>\n"
     ]
    }
   ],
   "source": [
    "print(type(3.0))"
   ]
  },
  {
   "cell_type": "markdown",
   "metadata": {},
   "source": [
    "In python number are two types `int` and `float or decimal`\n",
    "\n",
    "**We can convert data types using int() and float()**"
   ]
  },
  {
   "cell_type": "code",
   "execution_count": 5,
   "metadata": {},
   "outputs": [
    {
     "name": "stdout",
     "output_type": "stream",
     "text": [
      "3 -2\n"
     ]
    }
   ],
   "source": [
    "print(int(3.14159), int(-2.8))"
   ]
  },
  {
   "cell_type": "code",
   "execution_count": 6,
   "metadata": {},
   "outputs": [
    {
     "name": "stdout",
     "output_type": "stream",
     "text": [
      "3.0 -3.0\n"
     ]
    }
   ],
   "source": [
    "print(float(3), float(-3))"
   ]
  },
  {
   "cell_type": "code",
   "execution_count": 7,
   "metadata": {},
   "outputs": [
    {
     "name": "stdout",
     "output_type": "stream",
     "text": [
      "1.4142135623730951\n"
     ]
    }
   ],
   "source": [
    "import math\n",
    "print(math.sqrt(2.0))"
   ]
  },
  {
   "cell_type": "code",
   "execution_count": 8,
   "metadata": {},
   "outputs": [
    {
     "name": "stdout",
     "output_type": "stream",
     "text": [
      "1.4142135623730951\n"
     ]
    }
   ],
   "source": [
    "# sqrt(2) = 1.4142135623730950488...\n",
    "print(1.4142135623730950488)"
   ]
  },
  {
   "cell_type": "code",
   "execution_count": 9,
   "metadata": {},
   "outputs": [],
   "source": [
    "# Arithmetic operators\n",
    "\n",
    "# +(plus), -(minus), *(times), /(divide by), **(power)"
   ]
  },
  {
   "cell_type": "code",
   "execution_count": 10,
   "metadata": {},
   "outputs": [
    {
     "name": "stdout",
     "output_type": "stream",
     "text": [
      "3 -1 24 32\n"
     ]
    }
   ],
   "source": [
    "print(1 + 2, 3 - 4, 4 * 6, 2 ** 5)"
   ]
  },
  {
   "cell_type": "code",
   "execution_count": 11,
   "metadata": {},
   "outputs": [
    {
     "name": "stdout",
     "output_type": "stream",
     "text": [
      "0.3333333333333333 0.3333333333333333\n"
     ]
    }
   ],
   "source": [
    "print(1/3, 1.0/3)"
   ]
  },
  {
   "cell_type": "code",
   "execution_count": 12,
   "metadata": {},
   "outputs": [
    {
     "name": "stdout",
     "output_type": "stream",
     "text": [
      "0\n"
     ]
    }
   ],
   "source": [
    "# // integer division\n",
    "print(1 // 3)"
   ]
  },
  {
   "cell_type": "code",
   "execution_count": 13,
   "metadata": {},
   "outputs": [
    {
     "name": "stdout",
     "output_type": "stream",
     "text": [
      "7 3.1666666666666665\n"
     ]
    }
   ],
   "source": [
    "print(1 + 2 * 3, 4.0 - 5.0 / 6.0)"
   ]
  },
  {
   "cell_type": "markdown",
   "metadata": {},
   "source": [
    "**Operator precedence**\n",
    "\n",
    "Top to bottom:\n",
    "\n",
    "- () \n",
    "- **\n",
    "- * \n",
    "- /\n",
    "- +\n",
    "- -"
   ]
  },
  {
   "cell_type": "code",
   "execution_count": 14,
   "metadata": {},
   "outputs": [
    {
     "name": "stdout",
     "output_type": "stream",
     "text": [
      "10\n"
     ]
    }
   ],
   "source": [
    "print( 1 * 2 + 2 * 4)"
   ]
  },
  {
   "cell_type": "markdown",
   "metadata": {},
   "source": [
    "Always manually group using parentheses when in doubt"
   ]
  },
  {
   "cell_type": "code",
   "execution_count": 15,
   "metadata": {},
   "outputs": [
    {
     "name": "stdout",
     "output_type": "stream",
     "text": [
      "20\n"
     ]
    }
   ],
   "source": [
    "print( 1 * (2 + 3) * 4)"
   ]
  },
  {
   "cell_type": "markdown",
   "metadata": {},
   "source": [
    "#### Practice Exercises for Expressions (optional)\n",
    "\n",
    "- There are 5280 feet in a mile. Write a Python statement that calculates and prints the number of feet in 13 miles."
   ]
  },
  {
   "cell_type": "code",
   "execution_count": 16,
   "metadata": {},
   "outputs": [
    {
     "name": "stdout",
     "output_type": "stream",
     "text": [
      "68640\n"
     ]
    }
   ],
   "source": [
    "print(5280 * 13)"
   ]
  },
  {
   "cell_type": "markdown",
   "metadata": {},
   "source": [
    "- Write a Python statement that calculates and prints the number of seconds in 7 hours, 21 minutes and 37 seconds."
   ]
  },
  {
   "cell_type": "code",
   "execution_count": 17,
   "metadata": {},
   "outputs": [
    {
     "name": "stdout",
     "output_type": "stream",
     "text": [
      "26497\n"
     ]
    }
   ],
   "source": [
    "print( 7 * 3600 + 21 * 60 + 37)"
   ]
  },
  {
   "cell_type": "markdown",
   "metadata": {},
   "source": [
    "- The perimeter of a rectangle is `2w+2h`, where `w` and `h` are the lengths of its sides. Write a Python statement that calculates and prints the length in inches of the perimeter of a rectangle with sides of length `4` and `7` inches."
   ]
  },
  {
   "cell_type": "code",
   "execution_count": 18,
   "metadata": {},
   "outputs": [
    {
     "name": "stdout",
     "output_type": "stream",
     "text": [
      "22\n"
     ]
    }
   ],
   "source": [
    "print(2 * 4 + 2 * 7)"
   ]
  },
  {
   "cell_type": "markdown",
   "metadata": {},
   "source": [
    "### Variables\n",
    "\n",
    "Variables is a placeholder for storing value.\n",
    "\n",
    "**Variable naming rules**:\n",
    "\n",
    "- Valid variable names consists of letters, numbers, and underscore.\n",
    "- starts with letter or underscore\n",
    "- case sensitive (capitalization matters)"
   ]
  },
  {
   "cell_type": "code",
   "execution_count": 19,
   "metadata": {},
   "outputs": [
    {
     "name": "stdout",
     "output_type": "stream",
     "text": [
      "Md. Nahid Hassan 23\n"
     ]
    }
   ],
   "source": [
    "my_name = 'Md. Nahid Hassan'\n",
    "my_age = 23\n",
    "\n",
    "print(my_name, my_age)"
   ]
  },
  {
   "cell_type": "code",
   "execution_count": 20,
   "metadata": {},
   "outputs": [
    {
     "name": "stdout",
     "output_type": "stream",
     "text": [
      "24\n"
     ]
    }
   ],
   "source": [
    "# next year my age will be.....\n",
    "my_age = my_age + 1\n",
    "print(my_age)"
   ]
  },
  {
   "cell_type": "code",
   "execution_count": 21,
   "metadata": {},
   "outputs": [
    {
     "name": "stdout",
     "output_type": "stream",
     "text": [
      "12\n"
     ]
    }
   ],
   "source": [
    "magic_pill = 12\n",
    "\n",
    "# after eating magic_pill my_age\n",
    "my_age = my_age - magic_pill\n",
    "print(my_age)"
   ]
  },
  {
   "cell_type": "markdown",
   "metadata": {},
   "source": [
    "#### Fahrenheit to Celsius\n",
    "\n",
    "```text\n",
    "c = 5 / 9 * (f - 32)\n",
    "```"
   ]
  },
  {
   "cell_type": "code",
   "execution_count": 22,
   "metadata": {},
   "outputs": [
    {
     "name": "stdout",
     "output_type": "stream",
     "text": [
      "0.0\n"
     ]
    }
   ],
   "source": [
    "temp_farhenheit = 32\n",
    "temp_celsius = 5.0 / 9.0 * (temp_farhenheit - 32)\n",
    "print(temp_celsius)"
   ]
  },
  {
   "cell_type": "code",
   "execution_count": 23,
   "metadata": {},
   "outputs": [
    {
     "name": "stdout",
     "output_type": "stream",
     "text": [
      "160.0\n"
     ]
    }
   ],
   "source": [
    "temp_farhenheit = 320\n",
    "temp_celsius = 5.0 / 9.0 * (temp_farhenheit - 32)\n",
    "print(temp_celsius)"
   ]
  },
  {
   "cell_type": "markdown",
   "metadata": {},
   "source": [
    "#### Celsius to Farhenheit\n",
    "\n",
    "```text\n",
    "f = 9 / 5 * c + 32\n",
    "```"
   ]
  },
  {
   "cell_type": "code",
   "execution_count": 24,
   "metadata": {},
   "outputs": [
    {
     "name": "stdout",
     "output_type": "stream",
     "text": [
      "212.0\n"
     ]
    }
   ],
   "source": [
    "temp_celsius = 100\n",
    "temp_farhenheit = 9.0 / 5.0 * temp_celsius + 32\n",
    "print(temp_farhenheit)"
   ]
  },
  {
   "cell_type": "markdown",
   "metadata": {},
   "source": [
    "#### Practice Exercises for Variables and Assignments\n",
    "\n",
    "- Given a template that pre-defines a variable `miles`, write an assignment statement that defines a variable `feet` whose value is the number of `feet in miles`."
   ]
  },
  {
   "cell_type": "code",
   "execution_count": 25,
   "metadata": {},
   "outputs": [
    {
     "name": "stdout",
     "output_type": "stream",
     "text": [
      "179520\n"
     ]
    }
   ],
   "source": [
    "miles = 34\n",
    "feet = miles * 5280\n",
    "print(feet)"
   ]
  },
  {
   "cell_type": "markdown",
   "metadata": {},
   "source": [
    "- Calculate the area of a cirle.\n",
    "\n",
    "```text\n",
    "area = pi * radius ** 2\n",
    "```"
   ]
  },
  {
   "cell_type": "code",
   "execution_count": 26,
   "metadata": {},
   "outputs": [
    {
     "name": "stdout",
     "output_type": "stream",
     "text": [
      "31.41592653589793\n"
     ]
    }
   ],
   "source": [
    "import math\n",
    "\n",
    "pi = math.pi\n",
    "radius = 10\n",
    "\n",
    "area = pi * radius\n",
    "print(area)"
   ]
  },
  {
   "cell_type": "markdown",
   "metadata": {},
   "source": [
    "- Challenge: Heron's formulastates the area of a triangle is `√(s(s−a)(s−b)(s−c))` where `a`, `b` and `c` are the lengths of the sides of the triangle and `s` = `1/2(a+b+c)` is thesemi-perimeterof the triangle."
   ]
  },
  {
   "cell_type": "code",
   "execution_count": 27,
   "metadata": {},
   "outputs": [
    {
     "name": "stdout",
     "output_type": "stream",
     "text": [
      "41.0\n",
      "291.95718864244463\n"
     ]
    }
   ],
   "source": [
    "a = 32\n",
    "b = 30\n",
    "c = 20\n",
    "\n",
    "s = (a + b + c) / 2\n",
    "print(s)\n",
    "\n",
    "area_of_triangle = math.sqrt(s * (s - a) * (s - b) * (s - c))\n",
    "print(area_of_triangle)"
   ]
  },
  {
   "cell_type": "markdown",
   "metadata": {},
   "source": [
    "### Mini Project Week 1"
   ]
  },
  {
   "cell_type": "code",
   "execution_count": 28,
   "metadata": {
    "scrolled": true
   },
   "outputs": [
    {
     "name": "stdout",
     "output_type": "stream",
     "text": [
      "We want... a shrubbery!\n"
     ]
    }
   ],
   "source": [
    "print('We want... a shrubbery!')"
   ]
  },
  {
   "cell_type": "markdown",
   "metadata": {},
   "source": [
    "### Functions\n",
    "\n",
    "```py\n",
    "# header section\n",
    "def func_name(parameters):\n",
    "    # body section\n",
    "    ....\n",
    "```"
   ]
  },
  {
   "cell_type": "code",
   "execution_count": 29,
   "metadata": {},
   "outputs": [
    {
     "name": "stdout",
     "output_type": "stream",
     "text": [
      "15.0\n"
     ]
    }
   ],
   "source": [
    "# computes the area of a triangle\n",
    "\n",
    "# header\n",
    "def triangle_area(base, height):\n",
    "    # body\n",
    "    area = .5 * base * height\n",
    "    return area\n",
    "\n",
    "a1 = triangle_area(3, 10)\n",
    "print(a1)"
   ]
  },
  {
   "cell_type": "markdown",
   "metadata": {},
   "source": [
    "#### Modular Arithmetic"
   ]
  },
  {
   "cell_type": "code",
   "execution_count": 30,
   "metadata": {},
   "outputs": [
    {
     "name": "stdout",
     "output_type": "stream",
     "text": [
      "4\n"
     ]
    }
   ],
   "source": [
    "num = 49\n",
    "tens = num // 10\n",
    "print(tens)"
   ]
  },
  {
   "cell_type": "code",
   "execution_count": 31,
   "metadata": {},
   "outputs": [
    {
     "name": "stdout",
     "output_type": "stream",
     "text": [
      "9\n"
     ]
    }
   ],
   "source": [
    "ones = num % 10\n",
    "print(ones)"
   ]
  },
  {
   "cell_type": "code",
   "execution_count": 32,
   "metadata": {},
   "outputs": [
    {
     "name": "stdout",
     "output_type": "stream",
     "text": [
      "49\n"
     ]
    }
   ],
   "source": [
    "# print original number\n",
    "print(10 * tens + ones)"
   ]
  },
  {
   "cell_type": "markdown",
   "metadata": {},
   "source": [
    "#### Clock Arithmetic\n",
    "\n",
    "**24 Hours Clock**"
   ]
  },
  {
   "cell_type": "code",
   "execution_count": 33,
   "metadata": {},
   "outputs": [
    {
     "name": "stdout",
     "output_type": "stream",
     "text": [
      "4\n"
     ]
    }
   ],
   "source": [
    "hour = 20\n",
    "shift = 8\n",
    "print((hour + shift) % 24)"
   ]
  },
  {
   "cell_type": "markdown",
   "metadata": {},
   "source": [
    "#### Application - Screen Wraparound"
   ]
  },
  {
   "cell_type": "code",
   "execution_count": 34,
   "metadata": {},
   "outputs": [
    {
     "name": "stdout",
     "output_type": "stream",
     "text": [
      "2\n"
     ]
    }
   ],
   "source": [
    "width = 800\n",
    "position = 797\n",
    "move = 5\n",
    "\n",
    "position = (position + move) % width\n",
    "print(position)"
   ]
  },
  {
   "cell_type": "code",
   "execution_count": 35,
   "metadata": {},
   "outputs": [
    {
     "name": "stdout",
     "output_type": "stream",
     "text": [
      "797\n"
     ]
    }
   ],
   "source": [
    "width = 800\n",
    "position = 2\n",
    "move = -5\n",
    "\n",
    "position = (position + move) % width\n",
    "print(position)"
   ]
  },
  {
   "cell_type": "markdown",
   "metadata": {},
   "source": [
    "#### Convert 3 to 24 hour format like 03:00"
   ]
  },
  {
   "cell_type": "code",
   "execution_count": 36,
   "metadata": {},
   "outputs": [
    {
     "name": "stdout",
     "output_type": "stream",
     "text": [
      "03:00\n"
     ]
    }
   ],
   "source": [
    "hour = 3\n",
    "ones = 3 // 10\n",
    "tens = 3 % 10\n",
    "\n",
    "hour_24_formats = str(ones) + str(tens) + \":00\"\n",
    "print(hour_24_formats)"
   ]
  },
  {
   "cell_type": "markdown",
   "metadata": {},
   "source": [
    "### Practice Exercises for Functions (optional)\n",
    "\n",
    "- Write a Python function `miles_to_feet` that takes a parameter `miles` and returns the number of `feet` in miles."
   ]
  },
  {
   "cell_type": "code",
   "execution_count": 37,
   "metadata": {},
   "outputs": [
    {
     "name": "stdout",
     "output_type": "stream",
     "text": [
      "52800\n"
     ]
    }
   ],
   "source": [
    "def miles_to_feet(miles):\n",
    "    feet = miles * 5280\n",
    "    return feet\n",
    "\n",
    "print(miles_to_feet(10))"
   ]
  },
  {
   "cell_type": "markdown",
   "metadata": {},
   "source": [
    "- Write a Python function `future_value` that takes `three parameters` `present_value`, `annual_rate` and `years` and returns the future value of `present_value` dollars invested at `annual_rate` percent interest, compounded annually for `years`."
   ]
  },
  {
   "cell_type": "code",
   "execution_count": 38,
   "metadata": {},
   "outputs": [
    {
     "data": {
      "text/plain": [
       "5107.367603050422"
      ]
     },
     "execution_count": 38,
     "metadata": {},
     "output_type": "execute_result"
    }
   ],
   "source": [
    "def future_value(present_value, annual_rate, years):\n",
    "    return present_value * (1 + 0.01 * annual_rate) ** years\n",
    "\n",
    "future_value(100, 23, 19)"
   ]
  },
  {
   "cell_type": "markdown",
   "metadata": {},
   "source": [
    "- Write a Python function `print_digits` that takes an integer `number` in the range `[0,100)`, i.e., `at least 0, but less than 100`. It prints the message `\"The tens digit is %, and the ones digit is %.\"`"
   ]
  },
  {
   "cell_type": "code",
   "execution_count": 39,
   "metadata": {},
   "outputs": [
    {
     "name": "stdout",
     "output_type": "stream",
     "text": [
      "77\n"
     ]
    },
    {
     "data": {
      "text/plain": [
       "'The tens digit is 7, and the ones digit is 7'"
      ]
     },
     "execution_count": 39,
     "metadata": {},
     "output_type": "execute_result"
    }
   ],
   "source": [
    "import random\n",
    "\n",
    "def print_digits(number):\n",
    "    ones = number % 10\n",
    "    tens = number // 10\n",
    "    \n",
    "    print(number)\n",
    "    return f'The tens digit is {tens}, and the ones digit is {ones}'\n",
    "\n",
    "print_digits(random.randint(0,100))"
   ]
  },
  {
   "cell_type": "markdown",
   "metadata": {},
   "source": [
    "### Logic and Comparisons\n",
    "\n",
    "![images](images/truth-table.png)"
   ]
  },
  {
   "cell_type": "markdown",
   "metadata": {},
   "source": [
    "#### Logic"
   ]
  },
  {
   "cell_type": "code",
   "execution_count": 40,
   "metadata": {},
   "outputs": [
    {
     "name": "stdout",
     "output_type": "stream",
     "text": [
      "True\n",
      "False\n"
     ]
    }
   ],
   "source": [
    "a = True\n",
    "b = False\n",
    "\n",
    "print(a)\n",
    "print(b)"
   ]
  },
  {
   "cell_type": "code",
   "execution_count": 41,
   "metadata": {},
   "outputs": [
    {
     "name": "stdout",
     "output_type": "stream",
     "text": [
      "False\n",
      "True\n"
     ]
    }
   ],
   "source": [
    "print(not a)\n",
    "print(not b)"
   ]
  },
  {
   "cell_type": "code",
   "execution_count": 42,
   "metadata": {},
   "outputs": [
    {
     "name": "stdout",
     "output_type": "stream",
     "text": [
      "False\n",
      "True\n"
     ]
    }
   ],
   "source": [
    "print(a and b)\n",
    "print(a or b)"
   ]
  },
  {
   "cell_type": "markdown",
   "metadata": {},
   "source": [
    "- Greater than - `>`\n",
    "- Less than - `<`\n",
    "- Greater than equal - `>=`\n",
    "- Less than equal - `<=`\n",
    "- Equal - `==`\n",
    "- Not equal - `!=`"
   ]
  },
  {
   "cell_type": "code",
   "execution_count": 43,
   "metadata": {},
   "outputs": [
    {
     "name": "stdout",
     "output_type": "stream",
     "text": [
      "True\n"
     ]
    }
   ],
   "source": [
    "a = 7 > 3\n",
    "print(a)"
   ]
  },
  {
   "cell_type": "code",
   "execution_count": 44,
   "metadata": {},
   "outputs": [
    {
     "name": "stdout",
     "output_type": "stream",
     "text": [
      "False\n"
     ]
    }
   ],
   "source": [
    "a = 7 < 3\n",
    "print(a)"
   ]
  },
  {
   "cell_type": "code",
   "execution_count": 45,
   "metadata": {},
   "outputs": [
    {
     "name": "stdout",
     "output_type": "stream",
     "text": [
      "False\n"
     ]
    }
   ],
   "source": [
    "a = 7 == 3\n",
    "print(a)"
   ]
  },
  {
   "cell_type": "code",
   "execution_count": 46,
   "metadata": {},
   "outputs": [
    {
     "name": "stdout",
     "output_type": "stream",
     "text": [
      "True\n"
     ]
    }
   ],
   "source": [
    "a = 7 != 3\n",
    "print(a)"
   ]
  },
  {
   "cell_type": "code",
   "execution_count": 47,
   "metadata": {},
   "outputs": [
    {
     "name": "stdout",
     "output_type": "stream",
     "text": [
      "True\n"
     ]
    }
   ],
   "source": [
    "c = 'Hello' == 'Hello'\n",
    "print(c)"
   ]
  },
  {
   "cell_type": "markdown",
   "metadata": {},
   "source": [
    "#### Conditionals"
   ]
  },
  {
   "cell_type": "code",
   "execution_count": 48,
   "metadata": {},
   "outputs": [
    {
     "name": "stdout",
     "output_type": "stream",
     "text": [
      "Hi!\n",
      "Money:  25\n",
      "\n",
      "Ha Ha\n",
      "Money:  35\n",
      "\n",
      "Hi!\n",
      "Money:  15\n"
     ]
    }
   ],
   "source": [
    "def greet(friend, money):\n",
    "    if friend and (money > 20):\n",
    "        print(\"Hi!\")\n",
    "        money = money - 20\n",
    "    elif friend:\n",
    "        print(\"Hello\")\n",
    "    else:\n",
    "        print(\"Ha Ha\")\n",
    "        money = money + 10\n",
    "    return money\n",
    "\n",
    "money = 45\n",
    "\n",
    "# If you are my friends pass True else False\n",
    "money = greet(True, money)\n",
    "print(\"Money: \", money)\n",
    "\n",
    "print()\n",
    "\n",
    "money = greet(False, money)\n",
    "print(\"Money: \", money)\n",
    "\n",
    "print()\n",
    "\n",
    "money = greet(True, money)\n",
    "print(\"Money: \", money)"
   ]
  },
  {
   "cell_type": "markdown",
   "metadata": {},
   "source": [
    "#### Leap Year"
   ]
  },
  {
   "cell_type": "code",
   "execution_count": 49,
   "metadata": {},
   "outputs": [
    {
     "name": "stdout",
     "output_type": "stream",
     "text": [
      "2920 is a leap year.\n"
     ]
    }
   ],
   "source": [
    "def is_leap_year(year):\n",
    "    if (year % 400) == 0:\n",
    "        return True\n",
    "    elif (year % 100) == 0:\n",
    "        return False\n",
    "    elif (year % 4) == 0:\n",
    "        return True\n",
    "    else:\n",
    "        return False\n",
    "    \n",
    "year = 2920\n",
    "leap_year = is_leap_year(year)\n",
    "\n",
    "if leap_year:\n",
    "    print(year, 'is a leap year.')\n",
    "else:\n",
    "    print(year, 'is not a leap year.')"
   ]
  },
  {
   "cell_type": "markdown",
   "metadata": {},
   "source": [
    "### Practice Exercises for Logic and Conditionals  \n",
    "\n",
    "- Write a Python function `is_even` that takes as input the parameter `number` (an integer) and returns `True` if `number` is even and `False` if `number` is odd."
   ]
  },
  {
   "cell_type": "code",
   "execution_count": 50,
   "metadata": {},
   "outputs": [
    {
     "data": {
      "text/plain": [
       "True"
      ]
     },
     "execution_count": 50,
     "metadata": {},
     "output_type": "execute_result"
    }
   ],
   "source": [
    "def is_even(number):\n",
    "    if not number % 2:\n",
    "        return True\n",
    "    else:\n",
    "        return False\n",
    "\n",
    "is_even(10)"
   ]
  },
  {
   "cell_type": "code",
   "execution_count": 51,
   "metadata": {},
   "outputs": [
    {
     "data": {
      "text/plain": [
       "False"
      ]
     },
     "execution_count": 51,
     "metadata": {},
     "output_type": "execute_result"
    }
   ],
   "source": [
    "is_even(11)"
   ]
  },
  {
   "cell_type": "markdown",
   "metadata": {},
   "source": [
    "- Write a Python function `is_cool` that takes as input the string `name` and returns `True` if `name` is either `'Joe'` and `'Jhon'` or `'Stephen'` and returns `False` otherwise."
   ]
  },
  {
   "cell_type": "code",
   "execution_count": 52,
   "metadata": {},
   "outputs": [
    {
     "name": "stdout",
     "output_type": "stream",
     "text": [
      "True\n",
      "True\n",
      "False\n"
     ]
    }
   ],
   "source": [
    "def is_cool(name):\n",
    "    if name == 'Joe' or name == 'John':\n",
    "        return True\n",
    "    else:\n",
    "        return False\n",
    "\n",
    "print(is_cool('Joe'))\n",
    "print(is_cool('John'))\n",
    "print(is_cool('Stephen'))"
   ]
  },
  {
   "cell_type": "markdown",
   "metadata": {},
   "source": [
    "- Write a Python function `name_lookup` that takes a string `first_name` that corresponds to one of `('Joe', \"Scott\", 'John', or 'Stephen')` and then returns their corresponding last name `(\"Warren\", \"Rixner\", \"Greiner\", or \"Wong\")`. If `first_name` doesn't match any of those strings, return the string `\"Error: Not an instructor\"`."
   ]
  },
  {
   "cell_type": "code",
   "execution_count": 53,
   "metadata": {},
   "outputs": [
    {
     "data": {
      "text/plain": [
       "'Rixner'"
      ]
     },
     "execution_count": 53,
     "metadata": {},
     "output_type": "execute_result"
    }
   ],
   "source": [
    "def name_lookup(name):\n",
    "    if name == 'Joe':\n",
    "        return \"Warren\"\n",
    "    elif name == 'Scott':\n",
    "        return 'Rixner'\n",
    "    elif name == 'John':\n",
    "        return 'Greiner'\n",
    "    elif name == 'Stephen':\n",
    "        return 'Wong'\n",
    "    else:\n",
    "        return \"Error: Not an instructor\"\n",
    "\n",
    "name_lookup(\"Scott\")"
   ]
  },
  {
   "cell_type": "code",
   "execution_count": 54,
   "metadata": {},
   "outputs": [
    {
     "data": {
      "text/plain": [
       "'Error: Not an instructor'"
      ]
     },
     "execution_count": 54,
     "metadata": {},
     "output_type": "execute_result"
    }
   ],
   "source": [
    "name_lookup('nahid')"
   ]
  },
  {
   "cell_type": "markdown",
   "metadata": {},
   "source": [
    "- **Pig Latin** is a language game that involves altering words via a simple set of rules. Write a Python function `pig_latin` that takes a string `word` and applies the following rules to generate a new word in Pig Latin.  If the first letter in `word` is a `consonant`, append the consonant plus `\"ay\"` to the end of the remainder of the word. For example, `pig_latin(\"pig\")` would return `\"igpay\"`.  If the first letter in `word` is a `vowel`, append `\"way\"` to the end of the word.You can assume that `word` is in lower case.  "
   ]
  },
  {
   "cell_type": "code",
   "execution_count": 55,
   "metadata": {},
   "outputs": [
    {
     "data": {
      "text/plain": [
       "'igpay'"
      ]
     },
     "execution_count": 55,
     "metadata": {},
     "output_type": "execute_result"
    }
   ],
   "source": [
    "def pig_latin(word):\n",
    "    if word[0] == 'a' or word[0] == 'e' or word[0] == 'i' or word[0] == 'o' or word[0] == 'u':\n",
    "        return word[1:] + word[0] + 'way'\n",
    "    else:\n",
    "        return word[1:] + word[0] + 'ay'\n",
    "\n",
    "pig_latin('pig')"
   ]
  },
  {
   "cell_type": "markdown",
   "metadata": {},
   "source": [
    "### Event-Driven Programming"
   ]
  },
  {
   "cell_type": "code",
   "execution_count": 56,
   "metadata": {},
   "outputs": [
    {
     "name": "stdout",
     "output_type": "stream",
     "text": [
      "Hello deep panin ! Thanks for trying PySimpleGUI\n"
     ]
    }
   ],
   "source": [
    "import PySimpleGUI as sg                        # Part 1 - The import\n",
    "\n",
    "# Define the window's contents\n",
    "layout = [  [sg.Text(\"What's your name?\")],     # Part 2 - The Layout\n",
    "            [sg.Input()],\n",
    "            [sg.Button('Ok')] ]\n",
    "\n",
    "# Create the window\n",
    "window = sg.Window('Window Title', layout)      # Part 3 - Window Defintion\n",
    "\n",
    "# Display and interact with the Window\n",
    "event, values = window.read()                   # Part 4 - Event loop or Window.read call\n",
    "\n",
    "# Do something with the information gathered\n",
    "print('Hello', values[0], \"! Thanks for trying PySimpleGUI\")\n",
    "\n",
    "# Finish up by removing from the screen\n",
    "window.close()                                  # Part 5 - Close the Window"
   ]
  },
  {
   "cell_type": "markdown",
   "metadata": {},
   "source": [
    "### Fun with List"
   ]
  },
  {
   "cell_type": "code",
   "execution_count": 57,
   "metadata": {},
   "outputs": [
    {
     "name": "stdout",
     "output_type": "stream",
     "text": [
      "[1, 4, -7, 10.0]\n"
     ]
    }
   ],
   "source": [
    "l = [1, 4, -7, 10.0]\n",
    "print(l)"
   ]
  },
  {
   "cell_type": "code",
   "execution_count": 58,
   "metadata": {},
   "outputs": [
    {
     "name": "stdout",
     "output_type": "stream",
     "text": [
      "['milk', 'banana']\n"
     ]
    }
   ],
   "source": [
    "l2 = ['milk', 'banana']\n",
    "print(l2)"
   ]
  },
  {
   "cell_type": "code",
   "execution_count": 59,
   "metadata": {},
   "outputs": [
    {
     "name": "stdout",
     "output_type": "stream",
     "text": [
      "[[1, 2], ['egg', 'fry'], []]\n"
     ]
    }
   ],
   "source": [
    "# list inside list\n",
    "l3 = [[1,2], ['egg', 'fry'], []]\n",
    "print(l3)"
   ]
  },
  {
   "cell_type": "code",
   "execution_count": 60,
   "metadata": {},
   "outputs": [
    {
     "name": "stdout",
     "output_type": "stream",
     "text": [
      "['milk', 'banana']\n",
      "[[1, 2], ['egg', 'fry'], []]\n",
      "4 None None\n"
     ]
    }
   ],
   "source": [
    "print(len(l), print(l2), print(l3))"
   ]
  },
  {
   "cell_type": "code",
   "execution_count": 61,
   "metadata": {},
   "outputs": [
    {
     "data": {
      "text/plain": [
       "(4, 2, 3)"
      ]
     },
     "execution_count": 61,
     "metadata": {},
     "output_type": "execute_result"
    }
   ],
   "source": [
    "len(l), len(l2), len(l3)"
   ]
  },
  {
   "cell_type": "code",
   "execution_count": 62,
   "metadata": {},
   "outputs": [
    {
     "data": {
      "text/plain": [
       "(1, 10.0)"
      ]
     },
     "execution_count": 62,
     "metadata": {},
     "output_type": "execute_result"
    }
   ],
   "source": [
    "l[0], l[-1] # first and last element"
   ]
  },
  {
   "cell_type": "code",
   "execution_count": 63,
   "metadata": {},
   "outputs": [
    {
     "data": {
      "text/plain": [
       "[1, 2]"
      ]
     },
     "execution_count": 63,
     "metadata": {},
     "output_type": "execute_result"
    }
   ],
   "source": [
    "l3[0]"
   ]
  },
  {
   "cell_type": "code",
   "execution_count": 64,
   "metadata": {},
   "outputs": [
    {
     "data": {
      "text/plain": [
       "['banana']"
      ]
     },
     "execution_count": 64,
     "metadata": {},
     "output_type": "execute_result"
    }
   ],
   "source": [
    "l2[1:]"
   ]
  },
  {
   "cell_type": "code",
   "execution_count": 65,
   "metadata": {},
   "outputs": [
    {
     "data": {
      "text/plain": [
       "['milk', 'two banana']"
      ]
     },
     "execution_count": 65,
     "metadata": {},
     "output_type": "execute_result"
    }
   ],
   "source": [
    "# update\n",
    "l2[1] = 'two banana'\n",
    "l2"
   ]
  },
  {
   "cell_type": "markdown",
   "metadata": {},
   "source": [
    "### Keyboard Input"
   ]
  },
  {
   "cell_type": "code",
   "execution_count": 66,
   "metadata": {},
   "outputs": [
    {
     "data": {
      "text/plain": [
       "'\\x12'"
      ]
     },
     "execution_count": 66,
     "metadata": {},
     "output_type": "execute_result"
    }
   ],
   "source": [
    "chr(18)"
   ]
  },
  {
   "cell_type": "code",
   "execution_count": 67,
   "metadata": {},
   "outputs": [
    {
     "data": {
      "text/plain": [
       "'A'"
      ]
     },
     "execution_count": 67,
     "metadata": {},
     "output_type": "execute_result"
    }
   ],
   "source": [
    "chr(65)"
   ]
  },
  {
   "cell_type": "code",
   "execution_count": null,
   "metadata": {},
   "outputs": [],
   "source": []
  }
 ],
 "metadata": {
  "kernelspec": {
   "display_name": "Python 3",
   "language": "python",
   "name": "python3"
  },
  "language_info": {
   "codemirror_mode": {
    "name": "ipython",
    "version": 3
   },
   "file_extension": ".py",
   "mimetype": "text/x-python",
   "name": "python",
   "nbconvert_exporter": "python",
   "pygments_lexer": "ipython3",
   "version": "3.8.5"
  }
 },
 "nbformat": 4,
 "nbformat_minor": 4
}
